{
 "cells": [
  {
   "cell_type": "code",
   "execution_count": 79,
   "metadata": {},
   "outputs": [
    {
     "name": "stdout",
     "output_type": "stream",
     "text": [
      "hello hina here\n"
     ]
    }
   ],
   "source": [
    "#2-1. Simple Message: Store a message in a variable, and then print that message.\n",
    "message=\"hello hina here\"\n",
    "print(message)"
   ]
  },
  {
   "cell_type": "code",
   "execution_count": 80,
   "metadata": {},
   "outputs": [
    {
     "name": "stdout",
     "output_type": "stream",
     "text": [
      "hello hina here\n",
      "hi there\n"
     ]
    }
   ],
   "source": [
    "#2-2. Simple Messages: Store a message in a variable, and print that message.Then change the value of your variable to a new message, and print the new message.\n",
    "message=\"hello hina here\"\n",
    "print(message)\n",
    "message=\"hi there\"\n",
    "\n",
    "print(message)"
   ]
  },
  {
   "cell_type": "code",
   "execution_count": 81,
   "metadata": {},
   "outputs": [
    {
     "name": "stdout",
     "output_type": "stream",
     "text": [
      "hello eric would like to drink?\n"
     ]
    }
   ],
   "source": [
    "# Personal Message: Store a person’s name in a variable, and print a mes\u0002sage to that person. Your message should be simple, such as, “Hello Eric, \n",
    "#would you like to learn some Python today?”\n",
    "name=\"eric\"\n",
    "print(\"hello \"+name+\" would like to drink?\")"
   ]
  },
  {
   "cell_type": "code",
   "execution_count": 82,
   "metadata": {},
   "outputs": [
    {
     "name": "stdout",
     "output_type": "stream",
     "text": [
      "Hina Gull\n",
      "HINA GULL\n",
      "hina gull\n"
     ]
    }
   ],
   "source": [
    "#2-4. Name Cases: Store a person’s name in a variable, and then print that per\u0002son’s name in lowercase, uppercase, and titlecase.\n",
    "name=\"Hina gull\"\n",
    "print(name.title())\n",
    "print(name.upper())\n",
    "print(name.lower())"
   ]
  },
  {
   "cell_type": "code",
   "execution_count": 83,
   "metadata": {},
   "outputs": [
    {
     "name": "stdout",
     "output_type": "stream",
     "text": [
      "Albert Einstein once said, “A person who never made a \n",
      " mistake never tried anything new.”\n"
     ]
    }
   ],
   "source": [
    "#2-5. Famous Quote: Find a quote from a famous person you admire. Print the \n",
    "#quote and the name of its author. Your output should look something like the \n",
    "#following, including the quotation marks:\n",
    "#Albert Einstein once said, “A person who never made a \n",
    "#mistake never tried anything new.”\n",
    "print(\"Albert Einstein once said, “A person who never made a \\n mistake never tried anything new.”\")"
   ]
  },
  {
   "cell_type": "code",
   "execution_count": 84,
   "metadata": {},
   "outputs": [
    {
     "name": "stdout",
     "output_type": "stream",
     "text": [
      "Albert once said, “A person who never made a mistake never tried anything new.”\n"
     ]
    }
   ],
   "source": [
    "#2-6. Famous Quote 2: Repeat Exercise 2-5, but this time store the famous per\u0002son’s name in a variable called famous_person. Then compose your message \n",
    "#and store it in a new variable called message. Print your message\n",
    "famous_person=\"Albert\"\n",
    "message=\" once said, “A person who never made a mistake never tried anything new.”\"\n",
    "print(famous_person+message)"
   ]
  },
  {
   "cell_type": "code",
   "execution_count": 85,
   "metadata": {},
   "outputs": [
    {
     "name": "stdout",
     "output_type": "stream",
     "text": [
      "                  hina\n",
      "hina      \n",
      "hina\n"
     ]
    }
   ],
   "source": [
    "#2-7. Stripping Names: Store a person’s name, and include some whitespace \n",
    "#characters at the beginning and end of the name. Make sure you use each  character combination, \"\\t\" and \"\\n\", at least once.\n",
    "#Print the name once, so the whitespace around the name is displayed. Then print the name using each of the three stripping functions, lstrip(), \n",
    "#rstrip(), and strip()\n",
    "name=\"                  hina      \"\n",
    "print(name.rstrip())\n",
    "print(name.lstrip())\n",
    "print(name.strip())"
   ]
  },
  {
   "cell_type": "code",
   "execution_count": 86,
   "metadata": {},
   "outputs": [
    {
     "name": "stdout",
     "output_type": "stream",
     "text": [
      "8\n",
      "8\n",
      "8\n",
      "8.0\n",
      "8\n"
     ]
    }
   ],
   "source": [
    "#2-8. Number Eight: Write addition, subtraction, multiplication, and division operations that each result in the number 8. Be sure to enclose your operations \n",
    "#in print statements to see the results. You should create four lines that look like this:\n",
    "print(5+3)\n",
    "print(12-4)\n",
    "print(4*2)\n",
    "print(16/2)\n",
    "print(16//2)"
   ]
  },
  {
   "cell_type": "code",
   "execution_count": 87,
   "metadata": {},
   "outputs": [
    {
     "name": "stdout",
     "output_type": "stream",
     "text": [
      "11 is my favourite number\n"
     ]
    }
   ],
   "source": [
    "#2-9. Favorite Number: Store your favorite number in a variable. Then, using  that variable, create a message that reveals your favorite number. Print that \n",
    "#message\n",
    "num=11\n",
    "message=\" is my favourite number\"\n",
    "print(str(num)+message)"
   ]
  },
  {
   "cell_type": "code",
   "execution_count": 88,
   "metadata": {},
   "outputs": [],
   "source": [
    "#2-10. Adding Comments: Choose two of the programs you’ve written, and \n",
    "#add at least one comment to each. If you don’t have anything specific to write \n",
    "#because your programs are too simple at this point, just add your name and \n",
    "#the current date at the top of each program file. Then write one sentence \n",
    "#describing what the program does.\n"
   ]
  },
  {
   "cell_type": "code",
   "execution_count": 89,
   "metadata": {},
   "outputs": [],
   "source": [
    "#2-11. Zen of Python: Enter import this into a Python terminal session and skim through the additional principles.\n",
    "import this"
   ]
  }
 ],
 "metadata": {
  "interpreter": {
   "hash": "cf6744d95205dae8e5417b51023893433232521d324ecb98fe0ff0cbfc1648ea"
  },
  "kernelspec": {
   "display_name": "Python 3.10.4 64-bit",
   "language": "python",
   "name": "python3"
  },
  "language_info": {
   "codemirror_mode": {
    "name": "ipython",
    "version": 3
   },
   "file_extension": ".py",
   "mimetype": "text/x-python",
   "name": "python",
   "nbconvert_exporter": "python",
   "pygments_lexer": "ipython3",
   "version": "3.10.4"
  },
  "orig_nbformat": 4
 },
 "nbformat": 4,
 "nbformat_minor": 2
}
